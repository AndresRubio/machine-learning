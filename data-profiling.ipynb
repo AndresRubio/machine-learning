{
 "cells": [
  {
   "cell_type": "markdown",
   "metadata": {},
   "source": [
    "    #EDA\n",
    "   "
   ]
  },
  {
   "cell_type": "code",
   "execution_count": 5,
   "metadata": {
    "collapsed": true
   },
   "outputs": [],
   "source": [
    "import pandas as pd\n",
    "\n",
    "df = pd.read_csv(\"export_ia_challenge.csv\")"
   ]
  },
  {
   "cell_type": "code",
   "execution_count": null,
   "metadata": {
    "collapsed": true
   },
   "outputs": [],
   "source": [
    "df.dtypes"
   ]
  },
  {
   "cell_type": "code",
   "execution_count": 7,
   "metadata": {},
   "outputs": [
    {
     "name": "stdout",
     "output_type": "stream",
     "text": [
      "Number of observations: 6731176\n",
      "Number of non null: 6731176\n",
      "missing values: 0.0%\n"
     ]
    }
   ],
   "source": [
    "#Descriptive statistics\n",
    "\n",
    "dataset_length = len(df)\n",
    "dataset_count = df['O_GWERT'].count()\n",
    "print(\"Number of observations: \" + str(dataset_length))\n",
    "\n",
    "#number of non null \n",
    "print(\"Number of non null: \" + str(dataset_count))\n",
    "\n",
    "number_of_missing_values = dataset_length - dataset_count\n",
    "pct_of_missing_values = float(number_of_missing_values / dataset_length)\n",
    "pct_of_missing_values = \"{0:.1f}%\".format(pct_of_missing_values*100)\n",
    "\n",
    "print(\"missing values: \" + pct_of_missing_values)"
   ]
  },
  {
   "cell_type": "code",
   "execution_count": null,
   "metadata": {
    "collapsed": true
   },
   "outputs": [],
   "source": [
    "#https://www.datacamp.com/community/tutorials/python-data-profiling\n",
    "#min = df['O_GWERT'].min()\n",
    "#max = df['O_GWERT'].max()\n",
    "#mode = df['O_GWERT'].mode()\n",
    "#mean = df['O_GWERT'].mean()\n",
    "#median = df['O_GWERT'].median()\n",
    "#std = df['O_GWERT'].std()\n",
    "\n",
    "df.describe()"
   ]
  },
  {
   "cell_type": "code",
   "execution_count": 9,
   "metadata": {},
   "outputs": [
    {
     "data": {
      "text/plain": [
       "count    6.731176e+06\n",
       "mean     8.029232e+01\n",
       "std      6.235215e+01\n",
       "min      0.000000e+00\n",
       "25%      4.678000e+01\n",
       "50%      6.268000e+01\n",
       "75%      9.493000e+01\n",
       "max      3.136140e+03\n",
       "Name: O_GWERT, dtype: float64"
      ]
     },
     "execution_count": 9,
     "metadata": {},
     "output_type": "execute_result"
    }
   ],
   "source": [
    "df['O_GWERT'].describe()"
   ]
  },
  {
   "cell_type": "code",
   "execution_count": 10,
   "metadata": {},
   "outputs": [
    {
     "name": "stdout",
     "output_type": "stream",
     "text": [
      "0.25    46.78\n",
      "0.50    62.68\n",
      "0.75    94.93\n",
      "Name: O_GWERT, dtype: float64\n"
     ]
    }
   ],
   "source": [
    "# Quantiles Statistics splits a distribution in equal sizes\n",
    "\n",
    "quantile = df['O_GWERT'].quantile([.25, .5, .75])\n",
    "print(quantile)"
   ]
  },
  {
   "cell_type": "code",
   "execution_count": 11,
   "metadata": {
    "collapsed": true
   },
   "outputs": [],
   "source": [
    "import seaborn as sns\n",
    "sns.set(color_codes=True)\n",
    "sns.set_palette(sns.color_palette(\"muted\"))\n",
    "sns.distplot(df[\"O_GWERT\"]); # plot a univariate distribution of observations\n",
    "#seaborn`` library with thedisplotfunction. This function expects aSeries` with no missing values"
   ]
  },
  {
   "cell_type": "code",
   "execution_count": 14,
   "metadata": {},
   "outputs": [
    {
     "data": {
      "image/png": "[encoded data removed]",
      "text/plain": [
       "<matplotlib.figure.Figure at 0x10fb4ec18>"
      ]
     },
     "metadata": {},
     "output_type": "display_data"
    }
   ],
   "source": [
    "import seaborn as sns, numpy as np\n",
    "%matplotlib inline\n",
    "sns.set(); \n",
    "np.random.seed(0)\n",
    "x = np.random.randn(100)\n",
    "ax = sns.distplot(x)"
   ]
  },
  {
   "cell_type": "code",
   "execution_count": null,
   "metadata": {
    "collapsed": true
   },
   "outputs": [],
   "source": [
    "#Using a profiling library\n",
    "import pandas_profiling as pf\n",
    "\n",
    "pf.ProfileReport(df)"
   ]
  }
 ],
 "metadata": {
  "kernelspec": {
   "display_name": "Python 3",
   "language": "python",
   "name": "python3"
  },
  "language_info": {
   "codemirror_mode": {
    "name": "ipython",
    "version": 3
   },
   "file_extension": ".py",
   "mimetype": "text/x-python",
   "name": "python",
   "nbconvert_exporter": "python",
   "pygments_lexer": "ipython3",
   "version": "3.6.1"
  }
 },
 "nbformat": 4,
 "nbformat_minor": 2
}
